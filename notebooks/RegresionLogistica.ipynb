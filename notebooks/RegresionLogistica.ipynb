{
 "cells": [
  {
   "cell_type": "code",
   "execution_count": 14,
   "id": "61f10967-1af2-4e33-929c-8c15cc2e83ea",
   "metadata": {},
   "outputs": [
    {
     "data": {
      "text/html": [
       "<div>\n",
       "<style scoped>\n",
       "    .dataframe tbody tr th:only-of-type {\n",
       "        vertical-align: middle;\n",
       "    }\n",
       "\n",
       "    .dataframe tbody tr th {\n",
       "        vertical-align: top;\n",
       "    }\n",
       "\n",
       "    .dataframe thead th {\n",
       "        text-align: right;\n",
       "    }\n",
       "</style>\n",
       "<table border=\"1\" class=\"dataframe\">\n",
       "  <thead>\n",
       "    <tr style=\"text-align: right;\">\n",
       "      <th></th>\n",
       "      <th>Age</th>\n",
       "      <th>Sex</th>\n",
       "      <th>BP</th>\n",
       "      <th>Cholesterol</th>\n",
       "      <th>Na_to_K</th>\n",
       "      <th>Drug</th>\n",
       "    </tr>\n",
       "  </thead>\n",
       "  <tbody>\n",
       "    <tr>\n",
       "      <th>0</th>\n",
       "      <td>23</td>\n",
       "      <td>F</td>\n",
       "      <td>HIGH</td>\n",
       "      <td>HIGH</td>\n",
       "      <td>25.355</td>\n",
       "      <td>drugY</td>\n",
       "    </tr>\n",
       "    <tr>\n",
       "      <th>1</th>\n",
       "      <td>47</td>\n",
       "      <td>M</td>\n",
       "      <td>LOW</td>\n",
       "      <td>HIGH</td>\n",
       "      <td>13.093</td>\n",
       "      <td>drugC</td>\n",
       "    </tr>\n",
       "    <tr>\n",
       "      <th>2</th>\n",
       "      <td>47</td>\n",
       "      <td>M</td>\n",
       "      <td>LOW</td>\n",
       "      <td>HIGH</td>\n",
       "      <td>10.114</td>\n",
       "      <td>drugC</td>\n",
       "    </tr>\n",
       "    <tr>\n",
       "      <th>3</th>\n",
       "      <td>28</td>\n",
       "      <td>F</td>\n",
       "      <td>NORMAL</td>\n",
       "      <td>HIGH</td>\n",
       "      <td>7.798</td>\n",
       "      <td>drugX</td>\n",
       "    </tr>\n",
       "    <tr>\n",
       "      <th>4</th>\n",
       "      <td>61</td>\n",
       "      <td>F</td>\n",
       "      <td>LOW</td>\n",
       "      <td>HIGH</td>\n",
       "      <td>18.043</td>\n",
       "      <td>drugY</td>\n",
       "    </tr>\n",
       "  </tbody>\n",
       "</table>\n",
       "</div>"
      ],
      "text/plain": [
       "   Age Sex      BP Cholesterol  Na_to_K   Drug\n",
       "0   23   F    HIGH        HIGH   25.355  drugY\n",
       "1   47   M     LOW        HIGH   13.093  drugC\n",
       "2   47   M     LOW        HIGH   10.114  drugC\n",
       "3   28   F  NORMAL        HIGH    7.798  drugX\n",
       "4   61   F     LOW        HIGH   18.043  drugY"
      ]
     },
     "execution_count": 14,
     "metadata": {},
     "output_type": "execute_result"
    }
   ],
   "source": [
    "import pandas as pd\n",
    "from sklearn.model_selection import train_test_split\n",
    "from sklearn.linear_model import LogisticRegression\n",
    "from sklearn.metrics import classification_report\n",
    "from sklearn import metrics\n",
    "import matplotlib.pyplot as plt\n",
    "\n",
    "import warnings\n",
    "warnings.filterwarnings(\"ignore\")\n",
    "\n",
    "import os\n",
    "os.chdir(\"E:/EBAC/Material/M18\")\n",
    "\n",
    "drugs = pd.read_csv(\"drugs.csv\")\n",
    "drugs.head()"
   ]
  },
  {
   "cell_type": "code",
   "execution_count": 15,
   "id": "4366d5ec-5b64-4063-8e66-290f86604bee",
   "metadata": {},
   "outputs": [],
   "source": [
    "feature_cols = [\"Age\", \"Sex\", \"BP\", \"Cholesterol\", \"Na_to_K\"]\n",
    "X = drugs[feature_cols].values\n",
    "y = drugs.Drug"
   ]
  },
  {
   "cell_type": "code",
   "execution_count": 30,
   "id": "1057d3fe-87a6-4daa-882e-61af3c60f988",
   "metadata": {},
   "outputs": [],
   "source": [
    "from sklearn import preprocessing\n",
    "\n",
    "Cod_Sex = preprocessing.LabelEncoder()\n",
    "Cod_Sex.fit(np.unique(X[:,1]))\n",
    "X[:,1] = Cod_Sex.transform(X[:,1])\n",
    "\n",
    "Cod_BP = preprocessing.LabelEncoder()\n",
    "Cod_BP.fit(np.unique(X[:,2]))\n",
    "X[:,2] = Cod_BP.transform(X[:,2])\n",
    "\n",
    "Cod_Cholesterol = preprocessing.LabelEncoder()\n",
    "Cod_Cholesterol.fit(np.unique(X[:,3]))\n",
    "X[:,3] = Cod_Cholesterol.transform(X[:,3])"
   ]
  },
  {
   "cell_type": "code",
   "execution_count": 31,
   "id": "8e5677a9-acdb-45a6-ab7f-09060ae6cd3c",
   "metadata": {},
   "outputs": [],
   "source": [
    "# Convertimos los valores de y o los medicamentos en valores 0 y 1 donde 0 representa que es medicamento nacional y 1 extrangero\n",
    "\n",
    "y = y.apply(lambda x: 0 if x in [\"drugA\", \"drugB\", \"drugC\"] else 1)\n"
   ]
  },
  {
   "cell_type": "code",
   "execution_count": 17,
   "id": "41490dc0-c412-4589-bec6-26554c0d313d",
   "metadata": {},
   "outputs": [
    {
     "data": {
      "text/plain": [
       "array([[23, 0, 0, 0, 25.355],\n",
       "       [47, 1, 1, 0, 13.093],\n",
       "       [47, 1, 1, 0, 10.114],\n",
       "       [28, 0, 2, 0, 7.798],\n",
       "       [61, 0, 1, 0, 18.043]], dtype=object)"
      ]
     },
     "execution_count": 17,
     "metadata": {},
     "output_type": "execute_result"
    }
   ],
   "source": [
    "X[0:5]"
   ]
  },
  {
   "cell_type": "code",
   "execution_count": 18,
   "id": "1441a4f5-214c-4248-8efe-f0204cc0113a",
   "metadata": {},
   "outputs": [
    {
     "data": {
      "text/plain": [
       "0    1\n",
       "1    0\n",
       "2    0\n",
       "3    1\n",
       "4    1\n",
       "Name: Drug, dtype: int64"
      ]
     },
     "execution_count": 18,
     "metadata": {},
     "output_type": "execute_result"
    }
   ],
   "source": [
    "y[0:5]"
   ]
  },
  {
   "cell_type": "code",
   "execution_count": 19,
   "id": "5f916a5a-e65d-4fc4-b38b-0dd3b9ae7dad",
   "metadata": {},
   "outputs": [],
   "source": [
    "# Creación de grupos de entrenamiento y prueba\n",
    "\n",
    "X_train, X_test, y_train, y_test = train_test_split(X, y, test_size = 0.3, random_state = 1)"
   ]
  },
  {
   "cell_type": "markdown",
   "id": "3f18349f-3a29-429d-b126-94dcbb75de76",
   "metadata": {},
   "source": [
    "# Regresión logística con Solucionador (Solver): sag"
   ]
  },
  {
   "cell_type": "code",
   "execution_count": 20,
   "id": "0997dd2e-a310-40be-8314-6849d5399e89",
   "metadata": {},
   "outputs": [
    {
     "name": "stdout",
     "output_type": "stream",
     "text": [
      "Intercepto (Beta 0) [-0.30516415]\n",
      "Pesos (Betas) [[-0.03191764 -0.12809691  0.92475183  0.25650588  0.140862  ]]\n",
      "--------------------------------------------------------------------------------------\n",
      "Precisión global:  0.9166666666666666\n",
      "--------------------------------------------------------------------------------------\n",
      "              precision    recall  f1-score   support\n",
      "\n",
      "           0       1.00      0.64      0.78        14\n",
      "           1       0.90      1.00      0.95        46\n",
      "\n",
      "    accuracy                           0.92        60\n",
      "   macro avg       0.95      0.82      0.87        60\n",
      "weighted avg       0.92      0.92      0.91        60\n",
      "\n"
     ]
    }
   ],
   "source": [
    "model = LogisticRegression(solver=\"sag\")\n",
    "clf = model.fit(X_train, y_train)\n",
    "\n",
    "y_pred = model.predict(X_test)\n",
    "\n",
    "print(\"Intercepto (Beta 0)\", clf.intercept_)\n",
    "print(\"Pesos (Betas)\", clf.coef_)\n",
    "print(\"--------------------------------------------------------------------------------------\")\n",
    "score = model.score(X_test, y_test)\n",
    "print(\"Precisión global: \", score)\n",
    "print(\"--------------------------------------------------------------------------------------\")\n",
    "print(classification_report(y_test, y_pred))\n"
   ]
  },
  {
   "cell_type": "markdown",
   "id": "3dde1831-50f4-4cd7-89fc-4a4893c4b543",
   "metadata": {},
   "source": [
    "# Regresión logística con Solucionador (Solver): newton-cg"
   ]
  },
  {
   "cell_type": "code",
   "execution_count": 21,
   "id": "b845d2c6-8099-4592-bbbd-2f8e6a8f9cf6",
   "metadata": {},
   "outputs": [
    {
     "name": "stdout",
     "output_type": "stream",
     "text": [
      "Intercepto (Beta 0) [-10.93095231]\n",
      "Pesos (Betas) [[0.01389073 0.13791913 3.1415303  2.16151537 0.60541547]]\n",
      "--------------------------------------------------------------------------------------\n",
      "Precisión global:  0.9833333333333333\n",
      "--------------------------------------------------------------------------------------\n",
      "              precision    recall  f1-score   support\n",
      "\n",
      "           0       1.00      0.93      0.96        14\n",
      "           1       0.98      1.00      0.99        46\n",
      "\n",
      "    accuracy                           0.98        60\n",
      "   macro avg       0.99      0.96      0.98        60\n",
      "weighted avg       0.98      0.98      0.98        60\n",
      "\n"
     ]
    }
   ],
   "source": [
    "model = LogisticRegression(solver=\"newton-cg\")\n",
    "clf = model.fit(X_train, y_train)\n",
    "\n",
    "y_pred = model.predict(X_test)\n",
    "\n",
    "print(\"Intercepto (Beta 0)\", clf.intercept_)\n",
    "print(\"Pesos (Betas)\", clf.coef_)\n",
    "print(\"--------------------------------------------------------------------------------------\")\n",
    "score = model.score(X_test, y_test)\n",
    "print(\"Precisión global: \", score)\n",
    "print(\"--------------------------------------------------------------------------------------\")\n",
    "print(classification_report(y_test, y_pred))\n"
   ]
  },
  {
   "cell_type": "markdown",
   "id": "6efb6099-1dc6-4f8e-a5ec-88d967cfbbb3",
   "metadata": {},
   "source": [
    "# Regresión logística con Solucionador (Solver): liblinear"
   ]
  },
  {
   "cell_type": "code",
   "execution_count": 22,
   "id": "837db168-c319-4409-bb0d-5c1e18b50b05",
   "metadata": {},
   "outputs": [
    {
     "name": "stdout",
     "output_type": "stream",
     "text": [
      "Intercepto (Beta 0) [-3.22816315]\n",
      "Pesos (Betas) [[-0.02274502 -0.22931494  1.92536996  1.18113954  0.24969711]]\n",
      "--------------------------------------------------------------------------------------\n",
      "Precisión global:  0.9833333333333333\n",
      "--------------------------------------------------------------------------------------\n",
      "              precision    recall  f1-score   support\n",
      "\n",
      "           0       1.00      0.93      0.96        14\n",
      "           1       0.98      1.00      0.99        46\n",
      "\n",
      "    accuracy                           0.98        60\n",
      "   macro avg       0.99      0.96      0.98        60\n",
      "weighted avg       0.98      0.98      0.98        60\n",
      "\n"
     ]
    }
   ],
   "source": [
    "model = LogisticRegression(solver=\"liblinear\")\n",
    "clf = model.fit(X_train, y_train)\n",
    "\n",
    "y_pred = model.predict(X_test)\n",
    "\n",
    "print(\"Intercepto (Beta 0)\", clf.intercept_)\n",
    "print(\"Pesos (Betas)\", clf.coef_)\n",
    "print(\"--------------------------------------------------------------------------------------\")\n",
    "score = model.score(X_test, y_test)\n",
    "print(\"Precisión global: \", score)\n",
    "print(\"--------------------------------------------------------------------------------------\")\n",
    "print(classification_report(y_test, y_pred))"
   ]
  },
  {
   "cell_type": "markdown",
   "id": "4d7de292-3d34-4624-b6a8-8f92f97f28e5",
   "metadata": {},
   "source": [
    "# Regresión logística con Solucionador (Solver): saga"
   ]
  },
  {
   "cell_type": "code",
   "execution_count": 23,
   "id": "3235d194-b584-4f18-9d57-d1be3a2fb2ce",
   "metadata": {},
   "outputs": [
    {
     "name": "stdout",
     "output_type": "stream",
     "text": [
      "Intercepto (Beta 0) [-0.14404599]\n",
      "Pesos (Betas) [[-0.02837256 -0.07119854  0.57972742  0.13745704  0.13610166]]\n",
      "--------------------------------------------------------------------------------------\n",
      "Precisión global:  0.9\n",
      "--------------------------------------------------------------------------------------\n",
      "              precision    recall  f1-score   support\n",
      "\n",
      "           0       1.00      0.57      0.73        14\n",
      "           1       0.88      1.00      0.94        46\n",
      "\n",
      "    accuracy                           0.90        60\n",
      "   macro avg       0.94      0.79      0.83        60\n",
      "weighted avg       0.91      0.90      0.89        60\n",
      "\n"
     ]
    }
   ],
   "source": [
    "model = LogisticRegression(solver=\"saga\")\n",
    "clf = model.fit(X_train, y_train)\n",
    "\n",
    "y_pred = model.predict(X_test)\n",
    "\n",
    "print(\"Intercepto (Beta 0)\", clf.intercept_)\n",
    "print(\"Pesos (Betas)\", clf.coef_)\n",
    "print(\"--------------------------------------------------------------------------------------\")\n",
    "score = model.score(X_test, y_test)\n",
    "print(\"Precisión global: \", score)\n",
    "print(\"--------------------------------------------------------------------------------------\")\n",
    "print(classification_report(y_test, y_pred))"
   ]
  },
  {
   "cell_type": "markdown",
   "id": "cd7dceb4-e579-447b-b55b-035de666363a",
   "metadata": {},
   "source": [
    "# Regresión logística con Solucionador (Solver): lbfgs"
   ]
  },
  {
   "cell_type": "code",
   "execution_count": 24,
   "id": "b898b7dd-c60d-4fc4-8875-41095fceee80",
   "metadata": {},
   "outputs": [
    {
     "name": "stdout",
     "output_type": "stream",
     "text": [
      "Intercepto (Beta 0) [-10.93228778]\n",
      "Pesos (Betas) [[0.01389594 0.13806129 3.14184245 2.16164754 0.60547626]]\n",
      "--------------------------------------------------------------------------------------\n",
      "Precisión global:  0.9833333333333333\n",
      "--------------------------------------------------------------------------------------\n",
      "              precision    recall  f1-score   support\n",
      "\n",
      "           0       1.00      0.93      0.96        14\n",
      "           1       0.98      1.00      0.99        46\n",
      "\n",
      "    accuracy                           0.98        60\n",
      "   macro avg       0.99      0.96      0.98        60\n",
      "weighted avg       0.98      0.98      0.98        60\n",
      "\n"
     ]
    }
   ],
   "source": [
    "model = LogisticRegression(solver=\"lbfgs\")\n",
    "clf = model.fit(X_train, y_train)\n",
    "\n",
    "y_pred = model.predict(X_test)\n",
    "\n",
    "print(\"Intercepto (Beta 0)\", clf.intercept_)\n",
    "print(\"Pesos (Betas)\", clf.coef_)\n",
    "print(\"--------------------------------------------------------------------------------------\")\n",
    "score = model.score(X_test, y_test)\n",
    "print(\"Precisión global: \", score)\n",
    "print(\"--------------------------------------------------------------------------------------\")\n",
    "print(classification_report(y_test, y_pred))"
   ]
  },
  {
   "cell_type": "markdown",
   "id": "23dc7ddb-7c4e-45a0-ba94-65348c7ed1af",
   "metadata": {},
   "source": [
    "# Predicciones"
   ]
  },
  {
   "cell_type": "markdown",
   "id": "9ebe6412-6be4-41fd-a597-217890816dd2",
   "metadata": {},
   "source": [
    "Despues de correr este modelo con los diferentes solucionadores, obtenemos que los mejores para este caso son: newton-cg, liblinear y lbfgs dandonos los mismo resultados y scores, con 98% de precision en cada uno."
   ]
  },
  {
   "cell_type": "code",
   "execution_count": 25,
   "id": "7c939129-4cbd-4db5-bdc0-50325a1326b9",
   "metadata": {},
   "outputs": [
    {
     "data": {
      "text/plain": [
       "array([0.98999607, 0.99966587, 0.99169979, 0.63337611, 0.99999275])"
      ]
     },
     "execution_count": 25,
     "metadata": {},
     "output_type": "execute_result"
    }
   ],
   "source": [
    "# Predicción de probabilidades para casos particulares\n",
    "y_pred_probs = clf.predict_proba(X_test)[:,1]\n",
    "y_pred_probs[0:5]"
   ]
  },
  {
   "cell_type": "code",
   "execution_count": 26,
   "id": "cc03cde2-903e-4ada-8953-f0738b54158e",
   "metadata": {},
   "outputs": [
    {
     "data": {
      "text/plain": [
       "58     1\n",
       "40     1\n",
       "34     1\n",
       "102    0\n",
       "184    1\n",
       "Name: Drug, dtype: int64"
      ]
     },
     "execution_count": 26,
     "metadata": {},
     "output_type": "execute_result"
    }
   ],
   "source": [
    "y_test[0:5]"
   ]
  },
  {
   "cell_type": "code",
   "execution_count": 27,
   "id": "8eda0aea-47f3-4b28-b96e-be2959371cd1",
   "metadata": {},
   "outputs": [
    {
     "data": {
      "text/plain": [
       "array([1, 1, 1, 0, 1], dtype=int64)"
      ]
     },
     "execution_count": 27,
     "metadata": {},
     "output_type": "execute_result"
    }
   ],
   "source": [
    "y_test = y_test.to_numpy()\n",
    "y_test[0:5]"
   ]
  },
  {
   "cell_type": "code",
   "execution_count": 28,
   "id": "24487295-746c-4d61-ab6e-223402dcee64",
   "metadata": {},
   "outputs": [],
   "source": [
    "# Graficación de la curva ROC y cálculo del área bajo ella\n",
    "from sklearn.metrics import roc_curve, roc_auc_score\n",
    "\n",
    "# fpr = false positive rate\n",
    "# tpt = true positive rate\n",
    "# thresholds = límites para valores de p\n",
    "fpr, tpr, thresholds = roc_curve(y_test, y_pred_probs)\n",
    "auc = roc_auc_score(y_test, y_pred_probs)"
   ]
  },
  {
   "cell_type": "code",
   "execution_count": 29,
   "id": "34a5578c-e81f-46d7-a8f7-e1b7692c728a",
   "metadata": {},
   "outputs": [
    {
     "data": {
      "text/plain": [
       "Text(0.5, 1.0, 'Curva ROC para Regresión Lógistica')"
      ]
     },
     "execution_count": 29,
     "metadata": {},
     "output_type": "execute_result"
    },
    {
     "data": {
      "image/png": "[encoded data removed]",
      "text/plain": [
       "<Figure size 640x480 with 1 Axes>"
      ]
     },
     "metadata": {},
     "output_type": "display_data"
    }
   ],
   "source": [
    "plt.plot([0,1], [0,1], 'k--')\n",
    "plt.plot(fpr, tpr, marker=\".\", label = \"Curva ROC (area = %0.2f)\" % auc)\n",
    "plt.xlabel(\"Tasa de falsos positivos\") # False positive rate\n",
    "plt.ylabel(\"Tasa de verdaderos positivos\") # True positive rate\n",
    "plt.legend(loc = \"lower right\")\n",
    "plt.title(\"Curva ROC para Regresión Lógistica\")"
   ]
  },
  {
   "cell_type": "markdown",
   "id": "5c8d811a-6fdd-4a9b-a4b5-498b1a19bca7",
   "metadata": {},
   "source": [
    "Mediante esta grafica podemos ver que los resultados de las predicciones fueron completamente certeros al compararlos con los valores reales obteniendo la maxima area bajo la curva y comprobando que este modelo es confiable para este caso utilizando cualquiera de los solucionadores newton-cg, liblinear o lbfgs"
   ]
  },
  {
   "cell_type": "code",
   "execution_count": null,
   "id": "82338f48-73e6-4570-8a4d-ce90a46efcf8",
   "metadata": {},
   "outputs": [],
   "source": []
  }
 ],
 "metadata": {
  "kernelspec": {
   "display_name": "Python 3 (ipykernel)",
   "language": "python",
   "name": "python3"
  },
  "language_info": {
   "codemirror_mode": {
    "name": "ipython",
    "version": 3
   },
   "file_extension": ".py",
   "mimetype": "text/x-python",
   "name": "python",
   "nbconvert_exporter": "python",
   "pygments_lexer": "ipython3",
   "version": "3.12.7"
  }
 },
 "nbformat": 4,
 "nbformat_minor": 5
}
